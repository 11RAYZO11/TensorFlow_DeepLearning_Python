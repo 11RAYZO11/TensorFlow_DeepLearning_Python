{
 "cells": [
  {
   "cell_type": "markdown",
   "metadata": {},
   "source": [
    "### KERAS"
   ]
  },
  {
   "cell_type": "code",
   "execution_count": 1,
   "metadata": {},
   "outputs": [],
   "source": [
    "import tensorflow as tf\n",
    "from sklearn.datasets import load_wine"
   ]
  },
  {
   "cell_type": "code",
   "execution_count": 2,
   "metadata": {},
   "outputs": [],
   "source": [
    "vino = load_wine()"
   ]
  },
  {
   "cell_type": "code",
   "execution_count": 3,
   "metadata": {},
   "outputs": [
    {
     "name": "stdout",
     "output_type": "stream",
     "text": [
      ".. _wine_dataset:\n",
      "\n",
      "Wine recognition dataset\n",
      "------------------------\n",
      "\n",
      "**Data Set Characteristics:**\n",
      "\n",
      "    :Number of Instances: 178 (50 in each of three classes)\n",
      "    :Number of Attributes: 13 numeric, predictive attributes and the class\n",
      "    :Attribute Information:\n",
      " \t\t- Alcohol\n",
      " \t\t- Malic acid\n",
      " \t\t- Ash\n",
      "\t\t- Alcalinity of ash  \n",
      " \t\t- Magnesium\n",
      "\t\t- Total phenols\n",
      " \t\t- Flavanoids\n",
      " \t\t- Nonflavanoid phenols\n",
      " \t\t- Proanthocyanins\n",
      "\t\t- Color intensity\n",
      " \t\t- Hue\n",
      " \t\t- OD280/OD315 of diluted wines\n",
      " \t\t- Proline\n",
      "\n",
      "    - class:\n",
      "            - class_0\n",
      "            - class_1\n",
      "            - class_2\n",
      "\t\t\n",
      "    :Summary Statistics:\n",
      "    \n",
      "    ============================= ==== ===== ======= =====\n",
      "                                   Min   Max   Mean     SD\n",
      "    ============================= ==== ===== ======= =====\n",
      "    Alcohol:                      11.0  14.8    13.0   0.8\n",
      "    Malic Acid:                   0.74  5.80    2.34  1.12\n",
      "    Ash:                          1.36  3.23    2.36  0.27\n",
      "    Alcalinity of Ash:            10.6  30.0    19.5   3.3\n",
      "    Magnesium:                    70.0 162.0    99.7  14.3\n",
      "    Total Phenols:                0.98  3.88    2.29  0.63\n",
      "    Flavanoids:                   0.34  5.08    2.03  1.00\n",
      "    Nonflavanoid Phenols:         0.13  0.66    0.36  0.12\n",
      "    Proanthocyanins:              0.41  3.58    1.59  0.57\n",
      "    Colour Intensity:              1.3  13.0     5.1   2.3\n",
      "    Hue:                          0.48  1.71    0.96  0.23\n",
      "    OD280/OD315 of diluted wines: 1.27  4.00    2.61  0.71\n",
      "    Proline:                       278  1680     746   315\n",
      "    ============================= ==== ===== ======= =====\n",
      "\n",
      "    :Missing Attribute Values: None\n",
      "    :Class Distribution: class_0 (59), class_1 (71), class_2 (48)\n",
      "    :Creator: R.A. Fisher\n",
      "    :Donor: Michael Marshall (MARSHALL%PLU@io.arc.nasa.gov)\n",
      "    :Date: July, 1988\n",
      "\n",
      "This is a copy of UCI ML Wine recognition datasets.\n",
      "https://archive.ics.uci.edu/ml/machine-learning-databases/wine/wine.data\n",
      "\n",
      "The data is the results of a chemical analysis of wines grown in the same\n",
      "region in Italy by three different cultivators. There are thirteen different\n",
      "measurements taken for different constituents found in the three types of\n",
      "wine.\n",
      "\n",
      "Original Owners: \n",
      "\n",
      "Forina, M. et al, PARVUS - \n",
      "An Extendible Package for Data Exploration, Classification and Correlation. \n",
      "Institute of Pharmaceutical and Food Analysis and Technologies,\n",
      "Via Brigata Salerno, 16147 Genoa, Italy.\n",
      "\n",
      "Citation:\n",
      "\n",
      "Lichman, M. (2013). UCI Machine Learning Repository\n",
      "[http://archive.ics.uci.edu/ml]. Irvine, CA: University of California,\n",
      "School of Information and Computer Science. \n",
      "\n",
      ".. topic:: References\n",
      "\n",
      "  (1) S. Aeberhard, D. Coomans and O. de Vel, \n",
      "  Comparison of Classifiers in High Dimensional Settings, \n",
      "  Tech. Rep. no. 92-02, (1992), Dept. of Computer Science and Dept. of  \n",
      "  Mathematics and Statistics, James Cook University of North Queensland. \n",
      "  (Also submitted to Technometrics). \n",
      "\n",
      "  The data was used with many others for comparing various \n",
      "  classifiers. The classes are separable, though only RDA \n",
      "  has achieved 100% correct classification. \n",
      "  (RDA : 100%, QDA 99.4%, LDA 98.9%, 1NN 96.1% (z-transformed data)) \n",
      "  (All results using the leave-one-out technique) \n",
      "\n",
      "  (2) S. Aeberhard, D. Coomans and O. de Vel, \n",
      "  \"THE CLASSIFICATION PERFORMANCE OF RDA\" \n",
      "  Tech. Rep. no. 92-01, (1992), Dept. of Computer Science and Dept. of \n",
      "  Mathematics and Statistics, James Cook University of North Queensland. \n",
      "  (Also submitted to Journal of Chemometrics).\n",
      "\n"
     ]
    }
   ],
   "source": [
    "print(vino['DESCR'])"
   ]
  },
  {
   "cell_type": "code",
   "execution_count": 4,
   "metadata": {},
   "outputs": [],
   "source": [
    "caracteriticas = vino['data']\n",
    "objetivo = vino['target']"
   ]
  },
  {
   "cell_type": "code",
   "execution_count": 5,
   "metadata": {},
   "outputs": [],
   "source": [
    "from sklearn.model_selection import train_test_split"
   ]
  },
  {
   "cell_type": "code",
   "execution_count": 6,
   "metadata": {},
   "outputs": [],
   "source": [
    "x_train, x_test, y_train, y_test = train_test_split(caracteriticas, objetivo, test_size=0.3)"
   ]
  },
  {
   "cell_type": "code",
   "execution_count": 7,
   "metadata": {},
   "outputs": [],
   "source": [
    "from sklearn.preprocessing import MinMaxScaler\n",
    "\n"
   ]
  },
  {
   "cell_type": "code",
   "execution_count": 8,
   "metadata": {},
   "outputs": [],
   "source": [
    "normalizador = MinMaxScaler()"
   ]
  },
  {
   "cell_type": "code",
   "execution_count": 9,
   "metadata": {},
   "outputs": [],
   "source": [
    "x_train_normalizado = normalizador.fit_transform(x_train)\n",
    "x_test_normalizado = normalizador.fit_transform(x_test)"
   ]
  },
  {
   "cell_type": "code",
   "execution_count": 10,
   "metadata": {},
   "outputs": [],
   "source": [
    "from tensorflow.contrib.keras import models, layers, losses, optimizers, metrics, activations"
   ]
  },
  {
   "cell_type": "code",
   "execution_count": 11,
   "metadata": {},
   "outputs": [],
   "source": [
    "modelo = models.Sequential()"
   ]
  },
  {
   "cell_type": "code",
   "execution_count": 13,
   "metadata": {},
   "outputs": [],
   "source": [
    "modelo.add(layers.Dense(units=13, input_dim=13, activation='relu'))"
   ]
  },
  {
   "cell_type": "code",
   "execution_count": 14,
   "metadata": {},
   "outputs": [],
   "source": [
    "modelo.add(layers.Dense(units=13, activation='relu'))\n",
    "modelo.add(layers.Dense(units=13, activation='relu'))"
   ]
  },
  {
   "cell_type": "code",
   "execution_count": 15,
   "metadata": {},
   "outputs": [],
   "source": [
    "modelo.add(layers.Dense(units=3, activation='softmax'))"
   ]
  },
  {
   "cell_type": "code",
   "execution_count": 21,
   "metadata": {},
   "outputs": [],
   "source": [
    "modelo.compile(optimizer='adam', loss='sparse_categorical_crossentropy', metrics=['accuracy'])"
   ]
  },
  {
   "cell_type": "code",
   "execution_count": 22,
   "metadata": {},
   "outputs": [
    {
     "name": "stdout",
     "output_type": "stream",
     "text": [
      "Epoch 1/60\n",
      "124/124 [==============================] - 7s 58ms/step - loss: 1.0919 - acc: 0.4758\n",
      "Epoch 2/60\n",
      "124/124 [==============================] - 0s 463us/step - loss: 1.0820 - acc: 0.5081\n",
      "Epoch 3/60\n",
      "124/124 [==============================] - 0s 609us/step - loss: 1.0739 - acc: 0.5484\n",
      "Epoch 4/60\n",
      "124/124 [==============================] - 0s 545us/step - loss: 1.0666 - acc: 0.5484\n",
      "Epoch 5/60\n",
      "124/124 [==============================] - 0s 537us/step - loss: 1.0599 - acc: 0.5242\n",
      "Epoch 6/60\n",
      "124/124 [==============================] - 0s 484us/step - loss: 1.0522 - acc: 0.5484\n",
      "Epoch 7/60\n",
      "124/124 [==============================] - 0s 447us/step - loss: 1.0441 - acc: 0.5806\n",
      "Epoch 8/60\n",
      "124/124 [==============================] - 0s 406us/step - loss: 1.0351 - acc: 0.6129\n",
      "Epoch 9/60\n",
      "124/124 [==============================] - 0s 445us/step - loss: 1.0253 - acc: 0.6774\n",
      "Epoch 10/60\n",
      "124/124 [==============================] - 0s 479us/step - loss: 1.0147 - acc: 0.6935\n",
      "Epoch 11/60\n",
      "124/124 [==============================] - 0s 428us/step - loss: 1.0042 - acc: 0.7016\n",
      "Epoch 12/60\n",
      "124/124 [==============================] - 0s 643us/step - loss: 0.9928 - acc: 0.7258\n",
      "Epoch 13/60\n",
      "124/124 [==============================] - 0s 317us/step - loss: 0.9808 - acc: 0.7419\n",
      "Epoch 14/60\n",
      "124/124 [==============================] - 0s 484us/step - loss: 0.9668 - acc: 0.7581\n",
      "Epoch 15/60\n",
      "124/124 [==============================] - 0s 505us/step - loss: 0.9526 - acc: 0.7823\n",
      "Epoch 16/60\n",
      "124/124 [==============================] - 0s 397us/step - loss: 0.9362 - acc: 0.7581\n",
      "Epoch 17/60\n",
      "124/124 [==============================] - 0s 397us/step - loss: 0.9193 - acc: 0.7903\n",
      "Epoch 18/60\n",
      "124/124 [==============================] - 0s 344us/step - loss: 0.9008 - acc: 0.7823\n",
      "Epoch 19/60\n",
      "124/124 [==============================] - 0s 430us/step - loss: 0.8809 - acc: 0.7823\n",
      "Epoch 20/60\n",
      "124/124 [==============================] - 0s 363us/step - loss: 0.8610 - acc: 0.7742\n",
      "Epoch 21/60\n",
      "124/124 [==============================] - 0s 377us/step - loss: 0.8404 - acc: 0.7742\n",
      "Epoch 22/60\n",
      "124/124 [==============================] - 0s 351us/step - loss: 0.8202 - acc: 0.7823\n",
      "Epoch 23/60\n",
      "124/124 [==============================] - 0s 424us/step - loss: 0.7987 - acc: 0.7742\n",
      "Epoch 24/60\n",
      "124/124 [==============================] - 0s 419us/step - loss: 0.7796 - acc: 0.7903\n",
      "Epoch 25/60\n",
      "124/124 [==============================] - 0s 372us/step - loss: 0.7600 - acc: 0.7984\n",
      "Epoch 26/60\n",
      "124/124 [==============================] - 0s 352us/step - loss: 0.7417 - acc: 0.7903\n",
      "Epoch 27/60\n",
      "124/124 [==============================] - 0s 339us/step - loss: 0.7242 - acc: 0.7984\n",
      "Epoch 28/60\n",
      "124/124 [==============================] - 0s 465us/step - loss: 0.7065 - acc: 0.8065\n",
      "Epoch 29/60\n",
      "124/124 [==============================] - 0s 435us/step - loss: 0.6903 - acc: 0.8226\n",
      "Epoch 30/60\n",
      "124/124 [==============================] - 0s 457us/step - loss: 0.6737 - acc: 0.8226\n",
      "Epoch 31/60\n",
      "124/124 [==============================] - 0s 406us/step - loss: 0.6587 - acc: 0.8226\n",
      "Epoch 32/60\n",
      "124/124 [==============================] - 0s 383us/step - loss: 0.6432 - acc: 0.8306\n",
      "Epoch 33/60\n",
      "124/124 [==============================] - 0s 405us/step - loss: 0.6281 - acc: 0.8387\n",
      "Epoch 34/60\n",
      "124/124 [==============================] - 0s 434us/step - loss: 0.6141 - acc: 0.8548\n",
      "Epoch 35/60\n",
      "124/124 [==============================] - 0s 392us/step - loss: 0.6001 - acc: 0.8548\n",
      "Epoch 36/60\n",
      "124/124 [==============================] - 0s 383us/step - loss: 0.5860 - acc: 0.8548\n",
      "Epoch 37/60\n",
      "124/124 [==============================] - 0s 432us/step - loss: 0.5723 - acc: 0.8710\n",
      "Epoch 38/60\n",
      "124/124 [==============================] - 0s 521us/step - loss: 0.5613 - acc: 0.8710\n",
      "Epoch 39/60\n",
      "124/124 [==============================] - 0s 377us/step - loss: 0.5471 - acc: 0.8710\n",
      "Epoch 40/60\n",
      "124/124 [==============================] - 0s 363us/step - loss: 0.5348 - acc: 0.8790\n",
      "Epoch 41/60\n",
      "124/124 [==============================] - 0s 353us/step - loss: 0.5228 - acc: 0.8710\n",
      "Epoch 42/60\n",
      "124/124 [==============================] - 0s 448us/step - loss: 0.5113 - acc: 0.8871\n",
      "Epoch 43/60\n",
      "124/124 [==============================] - 0s 425us/step - loss: 0.4989 - acc: 0.8871\n",
      "Epoch 44/60\n",
      "124/124 [==============================] - 0s 416us/step - loss: 0.4870 - acc: 0.8952\n",
      "Epoch 45/60\n",
      "124/124 [==============================] - 0s 357us/step - loss: 0.4757 - acc: 0.8952\n",
      "Epoch 46/60\n",
      "124/124 [==============================] - 0s 448us/step - loss: 0.4642 - acc: 0.8952\n",
      "Epoch 47/60\n",
      "124/124 [==============================] - 0s 377us/step - loss: 0.4528 - acc: 0.8952\n",
      "Epoch 48/60\n",
      "124/124 [==============================] - 0s 375us/step - loss: 0.4423 - acc: 0.9032\n",
      "Epoch 49/60\n",
      "124/124 [==============================] - 0s 317us/step - loss: 0.4306 - acc: 0.9032\n",
      "Epoch 50/60\n",
      "124/124 [==============================] - 0s 394us/step - loss: 0.4192 - acc: 0.9032\n",
      "Epoch 51/60\n",
      "124/124 [==============================] - 0s 392us/step - loss: 0.4083 - acc: 0.9032\n",
      "Epoch 52/60\n",
      "124/124 [==============================] - ETA: 0s - loss: 0.4329 - acc: 0.906 - 0s 424us/step - loss: 0.3966 - acc: 0.9032\n",
      "Epoch 53/60\n",
      "124/124 [==============================] - 0s 425us/step - loss: 0.3832 - acc: 0.9032\n",
      "Epoch 54/60\n",
      "124/124 [==============================] - 0s 414us/step - loss: 0.3710 - acc: 0.9032\n",
      "Epoch 55/60\n",
      "124/124 [==============================] - 0s 396us/step - loss: 0.3600 - acc: 0.9194\n",
      "Epoch 56/60\n",
      "124/124 [==============================] - 0s 367us/step - loss: 0.3487 - acc: 0.9194\n",
      "Epoch 57/60\n",
      "124/124 [==============================] - 0s 426us/step - loss: 0.3377 - acc: 0.9274\n",
      "Epoch 58/60\n",
      "124/124 [==============================] - 0s 423us/step - loss: 0.3273 - acc: 0.9274\n",
      "Epoch 59/60\n",
      "124/124 [==============================] - 0s 364us/step - loss: 0.3166 - acc: 0.9274\n",
      "Epoch 60/60\n",
      "124/124 [==============================] - 0s 361us/step - loss: 0.3065 - acc: 0.9355\n"
     ]
    },
    {
     "data": {
      "text/plain": [
       "<tensorflow.python.keras.callbacks.History at 0x7f191f078dd8>"
      ]
     },
     "execution_count": 22,
     "metadata": {},
     "output_type": "execute_result"
    }
   ],
   "source": [
    "modelo.fit(x_train_normalizado, y_train, epochs=60)"
   ]
  },
  {
   "cell_type": "code",
   "execution_count": 23,
   "metadata": {},
   "outputs": [],
   "source": [
    "predicciones = modelo.predict_classes(x_test_normalizado)"
   ]
  },
  {
   "cell_type": "code",
   "execution_count": 25,
   "metadata": {},
   "outputs": [],
   "source": [
    "from sklearn.metrics import classification_report"
   ]
  },
  {
   "cell_type": "code",
   "execution_count": 26,
   "metadata": {},
   "outputs": [
    {
     "name": "stdout",
     "output_type": "stream",
     "text": [
      "              precision    recall  f1-score   support\n",
      "\n",
      "           0       1.00      1.00      1.00        20\n",
      "           1       0.95      1.00      0.98        20\n",
      "           2       1.00      0.93      0.96        14\n",
      "\n",
      "   micro avg       0.98      0.98      0.98        54\n",
      "   macro avg       0.98      0.98      0.98        54\n",
      "weighted avg       0.98      0.98      0.98        54\n",
      "\n"
     ]
    }
   ],
   "source": [
    "print (classification_report(y_test, predicciones))"
   ]
  },
  {
   "cell_type": "code",
   "execution_count": null,
   "metadata": {},
   "outputs": [],
   "source": []
  }
 ],
 "metadata": {
  "kernelspec": {
   "display_name": "Python 3",
   "language": "python",
   "name": "python3"
  },
  "language_info": {
   "codemirror_mode": {
    "name": "ipython",
    "version": 3
   },
   "file_extension": ".py",
   "mimetype": "text/x-python",
   "name": "python",
   "nbconvert_exporter": "python",
   "pygments_lexer": "ipython3",
   "version": "3.5.6"
  }
 },
 "nbformat": 4,
 "nbformat_minor": 4
}
