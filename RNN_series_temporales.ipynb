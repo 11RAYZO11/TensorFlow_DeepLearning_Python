{
 "cells": [
  {
   "cell_type": "markdown",
   "metadata": {},
   "source": [
    "## redes neuronales recurrentes /-/ series temporales"
   ]
  },
  {
   "cell_type": "code",
   "execution_count": 3,
   "metadata": {},
   "outputs": [],
   "source": [
    "import tensorflow as tf\n",
    "import pandas as pd\n",
    "import numpy as np\n",
    "import matplotlib.pyplot as plt"
   ]
  },
  {
   "cell_type": "code",
   "execution_count": 4,
   "metadata": {},
   "outputs": [],
   "source": [
    "leche = pd.read_csv('/home/rayzo/Descargas/original(4).csv', index_col='Month')"
   ]
  },
  {
   "cell_type": "code",
   "execution_count": 61,
   "metadata": {
    "scrolled": true
   },
   "outputs": [
    {
     "data": {
      "text/html": [
       "<div>\n",
       "<style scoped>\n",
       "    .dataframe tbody tr th:only-of-type {\n",
       "        vertical-align: middle;\n",
       "    }\n",
       "\n",
       "    .dataframe tbody tr th {\n",
       "        vertical-align: top;\n",
       "    }\n",
       "\n",
       "    .dataframe thead th {\n",
       "        text-align: right;\n",
       "    }\n",
       "</style>\n",
       "<table border=\"1\" class=\"dataframe\">\n",
       "  <thead>\n",
       "    <tr style=\"text-align: right;\">\n",
       "      <th></th>\n",
       "      <th>Milk Production</th>\n",
       "    </tr>\n",
       "    <tr>\n",
       "      <th>Month</th>\n",
       "      <th></th>\n",
       "    </tr>\n",
       "  </thead>\n",
       "  <tbody>\n",
       "    <tr>\n",
       "      <th>1962-01-01 01:00:00</th>\n",
       "      <td>589.0</td>\n",
       "    </tr>\n",
       "    <tr>\n",
       "      <th>1962-02-01 01:00:00</th>\n",
       "      <td>561.0</td>\n",
       "    </tr>\n",
       "    <tr>\n",
       "      <th>1962-03-01 01:00:00</th>\n",
       "      <td>640.0</td>\n",
       "    </tr>\n",
       "    <tr>\n",
       "      <th>1962-04-01 01:00:00</th>\n",
       "      <td>656.0</td>\n",
       "    </tr>\n",
       "    <tr>\n",
       "      <th>1962-05-01 01:00:00</th>\n",
       "      <td>727.0</td>\n",
       "    </tr>\n",
       "  </tbody>\n",
       "</table>\n",
       "</div>"
      ],
      "text/plain": [
       "                     Milk Production\n",
       "Month                               \n",
       "1962-01-01 01:00:00            589.0\n",
       "1962-02-01 01:00:00            561.0\n",
       "1962-03-01 01:00:00            640.0\n",
       "1962-04-01 01:00:00            656.0\n",
       "1962-05-01 01:00:00            727.0"
      ]
     },
     "execution_count": 61,
     "metadata": {},
     "output_type": "execute_result"
    }
   ],
   "source": [
    "leche.head()"
   ]
  },
  {
   "cell_type": "code",
   "execution_count": 62,
   "metadata": {},
   "outputs": [
    {
     "name": "stdout",
     "output_type": "stream",
     "text": [
      "<class 'pandas.core.frame.DataFrame'>\n",
      "Index: 168 entries, 1962-01-01 01:00:00 to 1975-12-01 01:00:00\n",
      "Data columns (total 1 columns):\n",
      "Milk Production    168 non-null float64\n",
      "dtypes: float64(1)\n",
      "memory usage: 2.6+ KB\n"
     ]
    }
   ],
   "source": [
    "leche.info()"
   ]
  },
  {
   "cell_type": "code",
   "execution_count": 63,
   "metadata": {},
   "outputs": [],
   "source": [
    "leche.index = pd.to_datetime(leche.index)"
   ]
  },
  {
   "cell_type": "code",
   "execution_count": 64,
   "metadata": {},
   "outputs": [
    {
     "data": {
      "text/plain": [
       "<matplotlib.axes._subplots.AxesSubplot at 0x7f5741423cc0>"
      ]
     },
     "execution_count": 64,
     "metadata": {},
     "output_type": "execute_result"
    },
    {
     "data": {
      "image/png": "[encoded data removed]",
      "text/plain": [
       "<Figure size 432x288 with 1 Axes>"
      ]
     },
     "metadata": {
      "needs_background": "light"
     },
     "output_type": "display_data"
    }
   ],
   "source": [
    "leche.plot()"
   ]
  },
  {
   "cell_type": "code",
   "execution_count": 5,
   "metadata": {},
   "outputs": [],
   "source": [
    "conjuto_entrenamiento = leche.head(150)"
   ]
  },
  {
   "cell_type": "code",
   "execution_count": 6,
   "metadata": {},
   "outputs": [],
   "source": [
    "conjunto_pruebas = leche.tail(18)"
   ]
  },
  {
   "cell_type": "code",
   "execution_count": 7,
   "metadata": {},
   "outputs": [],
   "source": [
    "from sklearn.preprocessing import MinMaxScaler"
   ]
  },
  {
   "cell_type": "code",
   "execution_count": 8,
   "metadata": {},
   "outputs": [],
   "source": [
    "normalizacion = MinMaxScaler()"
   ]
  },
  {
   "cell_type": "code",
   "execution_count": 10,
   "metadata": {},
   "outputs": [],
   "source": [
    "entrenamiento_normalizado = normalizacion.fit_transform(conjuto_entrenamiento)\n",
    "pruebas_normalizado = normalizacion.transform(conjunto_pruebas)"
   ]
  },
  {
   "cell_type": "code",
   "execution_count": 11,
   "metadata": {},
   "outputs": [],
   "source": [
    "def lotes(datos_entrenamiento, tamaño_lote, pasos):\n",
    "    comienzo = np.random.randint(0, len(datos_entrenamiento) - pasos)\n",
    "    lote_y = np.array(datos_entrenamiento[comienzo:comienzo+pasos+1]).reshape(1,pasos+1)\n",
    "    return lote_y[:,:-1].reshape(-1,pasos,1), lote_y[:,1:].reshape(-1,pasos,1)"
   ]
  },
  {
   "cell_type": "code",
   "execution_count": 12,
   "metadata": {},
   "outputs": [],
   "source": [
    "numero_entradas = 1\n",
    "numero_pasos = 18\n",
    "numero_neuronas = 120\n",
    "numero_de_salidas = 1\n",
    "tasa_aprendizaje = 0.001\n",
    "numero_iteraciones_entrenamiento = 5000\n",
    "tamaño_lote = 1"
   ]
  },
  {
   "cell_type": "code",
   "execution_count": 13,
   "metadata": {},
   "outputs": [],
   "source": [
    "x = tf.placeholder(tf.float32, [None, numero_pasos, numero_entradas])\n",
    "y = tf.placeholder(tf.float32, [None, numero_pasos, numero_de_salidas])"
   ]
  },
  {
   "cell_type": "code",
   "execution_count": 14,
   "metadata": {},
   "outputs": [],
   "source": [
    "capa = tf.contrib.rnn.OutputProjectionWrapper(tf.contrib.rnn.BasicLSTMCell(num_units=numero_neuronas, activation=tf.nn.relu), output_size=numero_de_salidas)\n"
   ]
  },
  {
   "cell_type": "code",
   "execution_count": 15,
   "metadata": {},
   "outputs": [],
   "source": [
    "salidas, estados = tf.nn.dynamic_rnn(capa, x, dtype=tf.float32)"
   ]
  },
  {
   "cell_type": "code",
   "execution_count": 16,
   "metadata": {},
   "outputs": [],
   "source": [
    "funcion_error = tf.reduce_mean(tf.square(salidas-y))\n",
    "optimizador = tf.train.AdamOptimizer(learning_rate=tasa_aprendizaje)\n",
    "entrenamiento = optimizador.minimize(funcion_error)"
   ]
  },
  {
   "cell_type": "code",
   "execution_count": 17,
   "metadata": {},
   "outputs": [],
   "source": [
    "init = tf.global_variables_initializer()\n",
    "saver = tf.train.Saver()"
   ]
  },
  {
   "cell_type": "code",
   "execution_count": 18,
   "metadata": {},
   "outputs": [
    {
     "name": "stdout",
     "output_type": "stream",
     "text": [
      "0 \t Error 0.07264746\n",
      "100 \t Error 0.024909973\n",
      "200 \t Error 0.018365398\n",
      "300 \t Error 0.01300688\n",
      "400 \t Error 0.009772781\n",
      "500 \t Error 0.007274992\n",
      "600 \t Error 0.011823949\n",
      "700 \t Error 0.007568698\n",
      "800 \t Error 0.0058646733\n",
      "900 \t Error 0.008025111\n",
      "1000 \t Error 0.006330611\n",
      "1100 \t Error 0.005215352\n",
      "1200 \t Error 0.0061478605\n",
      "1300 \t Error 0.004805642\n",
      "1400 \t Error 0.0048352573\n",
      "1500 \t Error 0.0060496274\n",
      "1600 \t Error 0.006848581\n",
      "1700 \t Error 0.009844304\n",
      "1800 \t Error 0.0044573755\n",
      "1900 \t Error 0.007923412\n",
      "2000 \t Error 0.0030607674\n",
      "2100 \t Error 0.00399557\n",
      "2200 \t Error 0.0033762811\n",
      "2300 \t Error 0.0031435315\n",
      "2400 \t Error 0.003870888\n",
      "2500 \t Error 0.005917899\n",
      "2600 \t Error 0.003164963\n",
      "2700 \t Error 0.005026197\n",
      "2800 \t Error 0.006262375\n",
      "2900 \t Error 0.0033766231\n",
      "3000 \t Error 0.0033885664\n",
      "3100 \t Error 0.005761317\n",
      "3200 \t Error 0.0045341863\n",
      "3300 \t Error 0.0017845146\n",
      "3400 \t Error 0.0048643537\n",
      "3500 \t Error 0.00397825\n",
      "3600 \t Error 0.0019292318\n",
      "3700 \t Error 0.002604654\n",
      "3800 \t Error 0.0027057435\n",
      "3900 \t Error 0.0033394461\n",
      "4000 \t Error 0.0051530944\n",
      "4100 \t Error 0.006274955\n",
      "4200 \t Error 0.004662724\n",
      "4300 \t Error 0.0045338366\n",
      "4400 \t Error 0.005149124\n",
      "4500 \t Error 0.0027511728\n",
      "4600 \t Error 0.0027683051\n",
      "4700 \t Error 0.0017278705\n",
      "4800 \t Error 0.0038965775\n",
      "4900 \t Error 0.003370834\n"
     ]
    }
   ],
   "source": [
    "with tf.Session() as sesion:\n",
    "    sesion.run(init)\n",
    "    for iteracion in range(numero_iteraciones_entrenamiento):\n",
    "        lote_x, lote_y = lotes(entrenamiento_normalizado, tamaño_lote, numero_pasos)\n",
    "        sesion.run(entrenamiento, feed_dict={x:lote_x, y:lote_y})\n",
    "        if iteracion %100 == 0:\n",
    "            error = funcion_error.eval(feed_dict={x:lote_x, y:lote_y})\n",
    "            print(iteracion,'\\t Error', error)\n",
    "        saver.save(sesion, \"./modelo_series_temporales\")"
   ]
  },
  {
   "cell_type": "code",
   "execution_count": 26,
   "metadata": {},
   "outputs": [
    {
     "name": "stdout",
     "output_type": "stream",
     "text": [
      "INFO:tensorflow:Restoring parameters from ./modelo_series_temporales\n"
     ]
    }
   ],
   "source": [
    "with tf.Session() as sesion:\n",
    "    saver.restore(sesion, './modelo_series_temporales')\n",
    "    entrenamiento_seed = list(entrenamiento_normalizado[-18:])\n",
    "    for iteracion in range(18):\n",
    "        lote_x = np.array(entrenamiento_seed[-numero_pasos:]).reshape(1,numero_pasos,1)\n",
    "        prediccion_y = sesion.run(salidas, feed_dict={x:lote_x})\n",
    "        entrenamiento_seed.append(prediccion_y[0,-1,0])"
   ]
  },
  {
   "cell_type": "code",
   "execution_count": 28,
   "metadata": {},
   "outputs": [],
   "source": [
    "resultados = normalizacion.inverse_transform(np.array(entrenamiento_seed[18:]).reshape(18,1))"
   ]
  },
  {
   "cell_type": "code",
   "execution_count": 29,
   "metadata": {},
   "outputs": [
    {
     "data": {
      "text/plain": [
       "array([[ 913.737  ],\n",
       "       [ 891.32263],\n",
       "       [ 858.84674],\n",
       "       [ 857.6352 ],\n",
       "       [ 837.32983],\n",
       "       [ 856.6199 ],\n",
       "       [ 880.9157 ],\n",
       "       [ 877.6462 ],\n",
       "       [ 950.1556 ],\n",
       "       [ 980.19464],\n",
       "       [1006.0891 ],\n",
       "       [ 978.7492 ],\n",
       "       [ 949.4764 ],\n",
       "       [ 919.8877 ],\n",
       "       [ 888.8248 ],\n",
       "       [ 899.28546],\n",
       "       [ 871.51196],\n",
       "       [ 911.36194]], dtype=float32)"
      ]
     },
     "execution_count": 29,
     "metadata": {},
     "output_type": "execute_result"
    }
   ],
   "source": [
    "resultados"
   ]
  },
  {
   "cell_type": "code",
   "execution_count": 30,
   "metadata": {},
   "outputs": [
    {
     "name": "stderr",
     "output_type": "stream",
     "text": [
      "/home/rayzo/anaconda3/envs/pruebastensorflow/lib/python3.5/site-packages/ipykernel_launcher.py:1: SettingWithCopyWarning: \n",
      "A value is trying to be set on a copy of a slice from a DataFrame.\n",
      "Try using .loc[row_indexer,col_indexer] = value instead\n",
      "\n",
      "See the caveats in the documentation: http://pandas.pydata.org/pandas-docs/stable/indexing.html#indexing-view-versus-copy\n",
      "  \"\"\"Entry point for launching an IPython kernel.\n"
     ]
    }
   ],
   "source": [
    "conjunto_pruebas['Predicciones'] = resultados"
   ]
  },
  {
   "cell_type": "code",
   "execution_count": 31,
   "metadata": {},
   "outputs": [
    {
     "data": {
      "text/html": [
       "<div>\n",
       "<style scoped>\n",
       "    .dataframe tbody tr th:only-of-type {\n",
       "        vertical-align: middle;\n",
       "    }\n",
       "\n",
       "    .dataframe tbody tr th {\n",
       "        vertical-align: top;\n",
       "    }\n",
       "\n",
       "    .dataframe thead th {\n",
       "        text-align: right;\n",
       "    }\n",
       "</style>\n",
       "<table border=\"1\" class=\"dataframe\">\n",
       "  <thead>\n",
       "    <tr style=\"text-align: right;\">\n",
       "      <th></th>\n",
       "      <th>Milk Production</th>\n",
       "      <th>Predicciones</th>\n",
       "    </tr>\n",
       "    <tr>\n",
       "      <th>Month</th>\n",
       "      <th></th>\n",
       "      <th></th>\n",
       "    </tr>\n",
       "  </thead>\n",
       "  <tbody>\n",
       "    <tr>\n",
       "      <th>1974-07-01 01:00:00</th>\n",
       "      <td>908.0</td>\n",
       "      <td>913.737000</td>\n",
       "    </tr>\n",
       "    <tr>\n",
       "      <th>1974-08-01 01:00:00</th>\n",
       "      <td>867.0</td>\n",
       "      <td>891.322632</td>\n",
       "    </tr>\n",
       "    <tr>\n",
       "      <th>1974-09-01 01:00:00</th>\n",
       "      <td>815.0</td>\n",
       "      <td>858.846741</td>\n",
       "    </tr>\n",
       "    <tr>\n",
       "      <th>1974-10-01 01:00:00</th>\n",
       "      <td>812.0</td>\n",
       "      <td>857.635193</td>\n",
       "    </tr>\n",
       "    <tr>\n",
       "      <th>1974-11-01 01:00:00</th>\n",
       "      <td>773.0</td>\n",
       "      <td>837.329834</td>\n",
       "    </tr>\n",
       "    <tr>\n",
       "      <th>1974-12-01 01:00:00</th>\n",
       "      <td>813.0</td>\n",
       "      <td>856.619873</td>\n",
       "    </tr>\n",
       "    <tr>\n",
       "      <th>1975-01-01 01:00:00</th>\n",
       "      <td>834.0</td>\n",
       "      <td>880.915710</td>\n",
       "    </tr>\n",
       "    <tr>\n",
       "      <th>1975-02-01 01:00:00</th>\n",
       "      <td>782.0</td>\n",
       "      <td>877.646179</td>\n",
       "    </tr>\n",
       "    <tr>\n",
       "      <th>1975-03-01 01:00:00</th>\n",
       "      <td>892.0</td>\n",
       "      <td>950.155579</td>\n",
       "    </tr>\n",
       "    <tr>\n",
       "      <th>1975-04-01 01:00:00</th>\n",
       "      <td>903.0</td>\n",
       "      <td>980.194641</td>\n",
       "    </tr>\n",
       "    <tr>\n",
       "      <th>1975-05-01 01:00:00</th>\n",
       "      <td>966.0</td>\n",
       "      <td>1006.089111</td>\n",
       "    </tr>\n",
       "    <tr>\n",
       "      <th>1975-06-01 01:00:00</th>\n",
       "      <td>937.0</td>\n",
       "      <td>978.749207</td>\n",
       "    </tr>\n",
       "    <tr>\n",
       "      <th>1975-07-01 01:00:00</th>\n",
       "      <td>896.0</td>\n",
       "      <td>949.476379</td>\n",
       "    </tr>\n",
       "    <tr>\n",
       "      <th>1975-08-01 01:00:00</th>\n",
       "      <td>858.0</td>\n",
       "      <td>919.887695</td>\n",
       "    </tr>\n",
       "    <tr>\n",
       "      <th>1975-09-01 01:00:00</th>\n",
       "      <td>817.0</td>\n",
       "      <td>888.824829</td>\n",
       "    </tr>\n",
       "    <tr>\n",
       "      <th>1975-10-01 01:00:00</th>\n",
       "      <td>827.0</td>\n",
       "      <td>899.285461</td>\n",
       "    </tr>\n",
       "    <tr>\n",
       "      <th>1975-11-01 01:00:00</th>\n",
       "      <td>797.0</td>\n",
       "      <td>871.511963</td>\n",
       "    </tr>\n",
       "    <tr>\n",
       "      <th>1975-12-01 01:00:00</th>\n",
       "      <td>843.0</td>\n",
       "      <td>911.361938</td>\n",
       "    </tr>\n",
       "  </tbody>\n",
       "</table>\n",
       "</div>"
      ],
      "text/plain": [
       "                     Milk Production  Predicciones\n",
       "Month                                             \n",
       "1974-07-01 01:00:00            908.0    913.737000\n",
       "1974-08-01 01:00:00            867.0    891.322632\n",
       "1974-09-01 01:00:00            815.0    858.846741\n",
       "1974-10-01 01:00:00            812.0    857.635193\n",
       "1974-11-01 01:00:00            773.0    837.329834\n",
       "1974-12-01 01:00:00            813.0    856.619873\n",
       "1975-01-01 01:00:00            834.0    880.915710\n",
       "1975-02-01 01:00:00            782.0    877.646179\n",
       "1975-03-01 01:00:00            892.0    950.155579\n",
       "1975-04-01 01:00:00            903.0    980.194641\n",
       "1975-05-01 01:00:00            966.0   1006.089111\n",
       "1975-06-01 01:00:00            937.0    978.749207\n",
       "1975-07-01 01:00:00            896.0    949.476379\n",
       "1975-08-01 01:00:00            858.0    919.887695\n",
       "1975-09-01 01:00:00            817.0    888.824829\n",
       "1975-10-01 01:00:00            827.0    899.285461\n",
       "1975-11-01 01:00:00            797.0    871.511963\n",
       "1975-12-01 01:00:00            843.0    911.361938"
      ]
     },
     "execution_count": 31,
     "metadata": {},
     "output_type": "execute_result"
    }
   ],
   "source": [
    "conjunto_pruebas"
   ]
  },
  {
   "cell_type": "code",
   "execution_count": 32,
   "metadata": {},
   "outputs": [
    {
     "data": {
      "text/plain": [
       "<matplotlib.axes._subplots.AxesSubplot at 0x7f3d8123eb70>"
      ]
     },
     "execution_count": 32,
     "metadata": {},
     "output_type": "execute_result"
    },
    {
     "data": {
      "image/png": "[encoded data removed]",
      "text/plain": [
       "<Figure size 432x288 with 1 Axes>"
      ]
     },
     "metadata": {
      "needs_background": "light"
     },
     "output_type": "display_data"
    }
   ],
   "source": [
    "conjunto_pruebas.plot()"
   ]
  },
  {
   "cell_type": "code",
   "execution_count": null,
   "metadata": {},
   "outputs": [],
   "source": []
  }
 ],
 "metadata": {
  "kernelspec": {
   "display_name": "Python 3",
   "language": "python",
   "name": "python3"
  },
  "language_info": {
   "codemirror_mode": {
    "name": "ipython",
    "version": 3
   },
   "file_extension": ".py",
   "mimetype": "text/x-python",
   "name": "python",
   "nbconvert_exporter": "python",
   "pygments_lexer": "ipython3",
   "version": "3.5.6"
  }
 },
 "nbformat": 4,
 "nbformat_minor": 4
}
